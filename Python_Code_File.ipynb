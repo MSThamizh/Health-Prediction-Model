{
 "cells": [
  {
   "cell_type": "code",
   "execution_count": 25,
   "metadata": {},
   "outputs": [],
   "source": [
    "import pandas as pd\n",
    "from sklearn.linear_model import LinearRegression\n",
    "from sklearn.svm import SVR\n",
    "from sklearn.metrics import mean_squared_error, mean_absolute_error"
   ]
  },
  {
   "cell_type": "code",
   "execution_count": 26,
   "metadata": {},
   "outputs": [],
   "source": [
    "# Read CSV files\n",
    "train_data = pd.read_csv(r\"D:\\Guvi\\Projects\\Final Projects\\Project 3\\Datasets\\p1_train.csv\")\n",
    "test_data = pd.read_csv(r\"D:\\Guvi\\Projects\\Final Projects\\Project 3\\Datasets\\p1_test.csv\")"
   ]
  },
  {
   "cell_type": "code",
   "execution_count": 27,
   "metadata": {},
   "outputs": [
    {
     "data": {
      "text/html": [
       "<div>\n",
       "<style scoped>\n",
       "    .dataframe tbody tr th:only-of-type {\n",
       "        vertical-align: middle;\n",
       "    }\n",
       "\n",
       "    .dataframe tbody tr th {\n",
       "        vertical-align: top;\n",
       "    }\n",
       "\n",
       "    .dataframe thead th {\n",
       "        text-align: right;\n",
       "    }\n",
       "</style>\n",
       "<table border=\"1\" class=\"dataframe\">\n",
       "  <thead>\n",
       "    <tr style=\"text-align: right;\">\n",
       "      <th></th>\n",
       "      <th>-7.262173392018990370e+00</th>\n",
       "      <th>9.572603824406265005e+00</th>\n",
       "      <th>5.358725498169498280e+00</th>\n",
       "    </tr>\n",
       "  </thead>\n",
       "  <tbody>\n",
       "    <tr>\n",
       "      <th>0</th>\n",
       "      <td>3.462140</td>\n",
       "      <td>10.684524</td>\n",
       "      <td>-13.275822</td>\n",
       "    </tr>\n",
       "    <tr>\n",
       "      <th>1</th>\n",
       "      <td>-12.996801</td>\n",
       "      <td>-3.446163</td>\n",
       "      <td>31.815190</td>\n",
       "    </tr>\n",
       "    <tr>\n",
       "      <th>2</th>\n",
       "      <td>7.083537</td>\n",
       "      <td>-14.074146</td>\n",
       "      <td>1.995030</td>\n",
       "    </tr>\n",
       "    <tr>\n",
       "      <th>3</th>\n",
       "      <td>-15.216890</td>\n",
       "      <td>-18.630651</td>\n",
       "      <td>48.812452</td>\n",
       "    </tr>\n",
       "    <tr>\n",
       "      <th>4</th>\n",
       "      <td>6.841930</td>\n",
       "      <td>-8.080967</td>\n",
       "      <td>-0.481346</td>\n",
       "    </tr>\n",
       "  </tbody>\n",
       "</table>\n",
       "</div>"
      ],
      "text/plain": [
       "   -7.262173392018990370e+00  9.572603824406265005e+00  \\\n",
       "0                   3.462140                 10.684524   \n",
       "1                 -12.996801                 -3.446163   \n",
       "2                   7.083537                -14.074146   \n",
       "3                 -15.216890                -18.630651   \n",
       "4                   6.841930                 -8.080967   \n",
       "\n",
       "   5.358725498169498280e+00  \n",
       "0                -13.275822  \n",
       "1                 31.815190  \n",
       "2                  1.995030  \n",
       "3                 48.812452  \n",
       "4                 -0.481346  "
      ]
     },
     "execution_count": 27,
     "metadata": {},
     "output_type": "execute_result"
    }
   ],
   "source": [
    "train_data.head()"
   ]
  },
  {
   "cell_type": "code",
   "execution_count": 28,
   "metadata": {},
   "outputs": [
    {
     "data": {
      "text/html": [
       "<div>\n",
       "<style scoped>\n",
       "    .dataframe tbody tr th:only-of-type {\n",
       "        vertical-align: middle;\n",
       "    }\n",
       "\n",
       "    .dataframe tbody tr th {\n",
       "        vertical-align: top;\n",
       "    }\n",
       "\n",
       "    .dataframe thead th {\n",
       "        text-align: right;\n",
       "    }\n",
       "</style>\n",
       "<table border=\"1\" class=\"dataframe\">\n",
       "  <thead>\n",
       "    <tr style=\"text-align: right;\">\n",
       "      <th></th>\n",
       "      <th>1.589300268390259419e+01</th>\n",
       "      <th>1.171282902260990966e+01</th>\n",
       "      <th>-3.756792885773750612e+01</th>\n",
       "    </tr>\n",
       "  </thead>\n",
       "  <tbody>\n",
       "    <tr>\n",
       "      <th>0</th>\n",
       "      <td>-2.722421</td>\n",
       "      <td>-4.540615</td>\n",
       "      <td>11.475211</td>\n",
       "    </tr>\n",
       "    <tr>\n",
       "      <th>1</th>\n",
       "      <td>-14.587111</td>\n",
       "      <td>18.592864</td>\n",
       "      <td>11.468441</td>\n",
       "    </tr>\n",
       "    <tr>\n",
       "      <th>2</th>\n",
       "      <td>0.224331</td>\n",
       "      <td>16.433306</td>\n",
       "      <td>-15.159309</td>\n",
       "    </tr>\n",
       "    <tr>\n",
       "      <th>3</th>\n",
       "      <td>-12.215286</td>\n",
       "      <td>11.742682</td>\n",
       "      <td>17.392223</td>\n",
       "    </tr>\n",
       "    <tr>\n",
       "      <th>4</th>\n",
       "      <td>17.213737</td>\n",
       "      <td>-13.958878</td>\n",
       "      <td>-18.291343</td>\n",
       "    </tr>\n",
       "  </tbody>\n",
       "</table>\n",
       "</div>"
      ],
      "text/plain": [
       "   1.589300268390259419e+01  1.171282902260990966e+01  \\\n",
       "0                 -2.722421                 -4.540615   \n",
       "1                -14.587111                 18.592864   \n",
       "2                  0.224331                 16.433306   \n",
       "3                -12.215286                 11.742682   \n",
       "4                 17.213737                -13.958878   \n",
       "\n",
       "   -3.756792885773750612e+01  \n",
       "0                  11.475211  \n",
       "1                  11.468441  \n",
       "2                 -15.159309  \n",
       "3                  17.392223  \n",
       "4                 -18.291343  "
      ]
     },
     "execution_count": 28,
     "metadata": {},
     "output_type": "execute_result"
    }
   ],
   "source": [
    "test_data.head()"
   ]
  },
  {
   "cell_type": "code",
   "execution_count": 29,
   "metadata": {},
   "outputs": [],
   "source": [
    "# Rename Columns\n",
    "train_data.columns = ['Sensor_1', 'Sensor_2', 'Health']\n",
    "test_data.columns = ['Sensor_1', 'Sensor_2', 'Health']"
   ]
  },
  {
   "cell_type": "code",
   "execution_count": 30,
   "metadata": {},
   "outputs": [
    {
     "data": {
      "text/html": [
       "<div>\n",
       "<style scoped>\n",
       "    .dataframe tbody tr th:only-of-type {\n",
       "        vertical-align: middle;\n",
       "    }\n",
       "\n",
       "    .dataframe tbody tr th {\n",
       "        vertical-align: top;\n",
       "    }\n",
       "\n",
       "    .dataframe thead th {\n",
       "        text-align: right;\n",
       "    }\n",
       "</style>\n",
       "<table border=\"1\" class=\"dataframe\">\n",
       "  <thead>\n",
       "    <tr style=\"text-align: right;\">\n",
       "      <th></th>\n",
       "      <th>Sensor_1</th>\n",
       "      <th>Sensor_2</th>\n",
       "      <th>Health</th>\n",
       "    </tr>\n",
       "  </thead>\n",
       "  <tbody>\n",
       "    <tr>\n",
       "      <th>0</th>\n",
       "      <td>3.462140</td>\n",
       "      <td>10.684524</td>\n",
       "      <td>-13.275822</td>\n",
       "    </tr>\n",
       "    <tr>\n",
       "      <th>1</th>\n",
       "      <td>-12.996801</td>\n",
       "      <td>-3.446163</td>\n",
       "      <td>31.815190</td>\n",
       "    </tr>\n",
       "    <tr>\n",
       "      <th>2</th>\n",
       "      <td>7.083537</td>\n",
       "      <td>-14.074146</td>\n",
       "      <td>1.995030</td>\n",
       "    </tr>\n",
       "    <tr>\n",
       "      <th>3</th>\n",
       "      <td>-15.216890</td>\n",
       "      <td>-18.630651</td>\n",
       "      <td>48.812452</td>\n",
       "    </tr>\n",
       "    <tr>\n",
       "      <th>4</th>\n",
       "      <td>6.841930</td>\n",
       "      <td>-8.080967</td>\n",
       "      <td>-0.481346</td>\n",
       "    </tr>\n",
       "  </tbody>\n",
       "</table>\n",
       "</div>"
      ],
      "text/plain": [
       "    Sensor_1   Sensor_2     Health\n",
       "0   3.462140  10.684524 -13.275822\n",
       "1 -12.996801  -3.446163  31.815190\n",
       "2   7.083537 -14.074146   1.995030\n",
       "3 -15.216890 -18.630651  48.812452\n",
       "4   6.841930  -8.080967  -0.481346"
      ]
     },
     "execution_count": 30,
     "metadata": {},
     "output_type": "execute_result"
    }
   ],
   "source": [
    "train_data.head()"
   ]
  },
  {
   "cell_type": "code",
   "execution_count": 31,
   "metadata": {},
   "outputs": [
    {
     "data": {
      "text/html": [
       "<div>\n",
       "<style scoped>\n",
       "    .dataframe tbody tr th:only-of-type {\n",
       "        vertical-align: middle;\n",
       "    }\n",
       "\n",
       "    .dataframe tbody tr th {\n",
       "        vertical-align: top;\n",
       "    }\n",
       "\n",
       "    .dataframe thead th {\n",
       "        text-align: right;\n",
       "    }\n",
       "</style>\n",
       "<table border=\"1\" class=\"dataframe\">\n",
       "  <thead>\n",
       "    <tr style=\"text-align: right;\">\n",
       "      <th></th>\n",
       "      <th>Sensor_1</th>\n",
       "      <th>Sensor_2</th>\n",
       "      <th>Health</th>\n",
       "    </tr>\n",
       "  </thead>\n",
       "  <tbody>\n",
       "    <tr>\n",
       "      <th>0</th>\n",
       "      <td>-2.722421</td>\n",
       "      <td>-4.540615</td>\n",
       "      <td>11.475211</td>\n",
       "    </tr>\n",
       "    <tr>\n",
       "      <th>1</th>\n",
       "      <td>-14.587111</td>\n",
       "      <td>18.592864</td>\n",
       "      <td>11.468441</td>\n",
       "    </tr>\n",
       "    <tr>\n",
       "      <th>2</th>\n",
       "      <td>0.224331</td>\n",
       "      <td>16.433306</td>\n",
       "      <td>-15.159309</td>\n",
       "    </tr>\n",
       "    <tr>\n",
       "      <th>3</th>\n",
       "      <td>-12.215286</td>\n",
       "      <td>11.742682</td>\n",
       "      <td>17.392223</td>\n",
       "    </tr>\n",
       "    <tr>\n",
       "      <th>4</th>\n",
       "      <td>17.213737</td>\n",
       "      <td>-13.958878</td>\n",
       "      <td>-18.291343</td>\n",
       "    </tr>\n",
       "  </tbody>\n",
       "</table>\n",
       "</div>"
      ],
      "text/plain": [
       "    Sensor_1   Sensor_2     Health\n",
       "0  -2.722421  -4.540615  11.475211\n",
       "1 -14.587111  18.592864  11.468441\n",
       "2   0.224331  16.433306 -15.159309\n",
       "3 -12.215286  11.742682  17.392223\n",
       "4  17.213737 -13.958878 -18.291343"
      ]
     },
     "execution_count": 31,
     "metadata": {},
     "output_type": "execute_result"
    }
   ],
   "source": [
    "test_data.head()"
   ]
  },
  {
   "cell_type": "code",
   "execution_count": 32,
   "metadata": {},
   "outputs": [],
   "source": [
    "# Split Features and Target\n",
    "X_train, y_train = train_data[['Sensor_1', 'Sensor_2']], train_data['Health']\n",
    "X_test, y_test = test_data[['Sensor_1', 'Sensor_2']], test_data['Health']"
   ]
  },
  {
   "cell_type": "code",
   "execution_count": 33,
   "metadata": {},
   "outputs": [
    {
     "name": "stdout",
     "output_type": "stream",
     "text": [
      "*********LinearRegression*********\n",
      "Train MAE: 1.7916700453530021\n",
      "Train MSE: 5.059516966583047\n",
      "Test MAE: 1.7988557623211774\n",
      "Test MSE: 5.045760259110827\n",
      "\n",
      "*********SVR*********\n",
      "Train MAE: 1.8506198546531938\n",
      "Train MSE: 5.455966220308481\n",
      "Test MAE: 1.8567562894704273\n",
      "Test MSE: 5.41848217630018\n",
      "\n"
     ]
    }
   ],
   "source": [
    "# Evaluate Models\n",
    "models = [LinearRegression(), SVR()]\n",
    "for model in models:\n",
    "    model.fit(X_train,y_train)\n",
    "    train_pred = model.predict(X_train)\n",
    "    test_pred = model.predict(X_test)\n",
    "\n",
    "    print(f\"*********{type(model).__name__}*********\")\n",
    "\n",
    "    print(f\"Train MAE: {mean_absolute_error(y_train, train_pred)}\")\n",
    "    print(f\"Train MSE: {mean_squared_error(y_train, train_pred)}\")\n",
    "\n",
    "    print(f\"Test MAE: {mean_absolute_error(y_test, test_pred)}\")\n",
    "    print(f\"Test MSE: {mean_squared_error(y_test, test_pred)}\\n\")"
   ]
  }
 ],
 "metadata": {
  "kernelspec": {
   "display_name": ".venv",
   "language": "python",
   "name": "python3"
  },
  "language_info": {
   "codemirror_mode": {
    "name": "ipython",
    "version": 3
   },
   "file_extension": ".py",
   "mimetype": "text/x-python",
   "name": "python",
   "nbconvert_exporter": "python",
   "pygments_lexer": "ipython3",
   "version": "3.12.1"
  }
 },
 "nbformat": 4,
 "nbformat_minor": 2
}
